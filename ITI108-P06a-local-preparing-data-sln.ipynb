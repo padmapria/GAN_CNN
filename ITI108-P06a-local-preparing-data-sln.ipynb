{
 "cells": [
  {
   "cell_type": "markdown",
   "metadata": {},
   "source": [
    "# Practical 6 Part 1 - Preparing Your Data\n",
    "\n",
    "In this practical we will learn how to train basic GANs and Deep Convolutional GANs as an introduction to understanding how GANs work. \n",
    "\n",
    "Before we can even start with anything, let's download and unzip the dataset that we will be using for this practical from Polymall (UT Zappos 50k).\n",
    "\n",
    "*NOTE: This dataset is also available at http://vision.cs.utexas.edu/projects/finegrained/utzap50k/ \n",
    "\n"
   ]
  },
  {
   "cell_type": "markdown",
   "metadata": {},
   "source": [
    "## Section 6.1.1 - Initialize Settings\n",
    "\n",
    "Change the folder settings if necessary.\n",
    "\n",
    "Then, run the following cell to initialize the folders and our output width."
   ]
  },
  {
   "cell_type": "code",
   "execution_count": 4,
   "metadata": {},
   "outputs": [],
   "source": [
    "import os \n",
    "\n",
    "# TODO: \n",
    "# Set up your folder containing the data to your Clothing dataset\n",
    "#\n",
    "data_folder = os.path.expanduser(\"~\") + '/Downloads/ut-zap50k-images-square/'\n",
    "output_folder = os.path.expanduser(\"~\") + '/data/p6/'\n",
    "\n",
    "\n",
    "width = 28\n",
    "height = 28"
   ]
  },
  {
   "cell_type": "code",
   "execution_count": null,
   "metadata": {},
   "outputs": [],
   "source": [
    "# Create the folder for containing your output data.\n",
    "#\n",
    "os.makedirs(output_folder, exist_ok=True)"
   ]
  },
  {
   "cell_type": "markdown",
   "metadata": {},
   "source": [
    "## Section 6.1.2 - Declaring Image Processing Functions\n",
    "\n",
    "Run the following cell as is to declare the image processing functions.\n"
   ]
  },
  {
   "cell_type": "code",
   "execution_count": 5,
   "metadata": {},
   "outputs": [],
   "source": [
    "import numpy as np\n",
    "import scipy.io\n",
    "import pandas\n",
    "from matplotlib import pyplot as plt\n",
    "from matplotlib import cm\n",
    "import cv2\n",
    "import glob\n",
    "\n",
    "# Loads an image using OpenCV and returns the result\n",
    "# in a numpy array in R, G, B order.\n",
    "#\n",
    "def loadimage(filename):\n",
    "    img = cv2.imread(filename)\n",
    "    img = img[...,::-1]     #reverse the RGB\n",
    "    return img\n",
    "\n",
    "# Resizes an image using OpenCV and returns the result\n",
    "# in a numpy array in R, G, B order.\n",
    "#\n",
    "def resizeimage(img, width, height, nearest):\n",
    "    if nearest:\n",
    "        return cv2.resize(img, (width, height), interpolation=cv2.INTER_NEAREST)\n",
    "    else:\n",
    "        return cv2.resize(img, (width, height), interpolation=cv2.INTER_CUBIC)\n",
    "\n",
    "\n",
    "# Loads and resize the image down to a size that can\n",
    "# be fed into our segmentation network.\n",
    "#\n",
    "def load_and_process_image(filepath, width, height):\n",
    "    if not (os.path.exists(filepath)):\n",
    "        return None\n",
    "    \n",
    "    img = loadimage(filepath)\n",
    "    img = resizeimage(img, width, height, False)                   # Bicubic interpolation    \n",
    "    return img"
   ]
  },
  {
   "cell_type": "markdown",
   "metadata": {},
   "source": [
    "## Section 6.1.3 - Load Up and Process Images\n",
    "\n",
    "Run the following code as is to load up and process all images. There are about 50,000 images, which we are all going to resize to 28x28. \n",
    "\n",
    "We will save two sets of data. One set contains the these images in colour, the other set in grayscale.\n",
    "\n",
    "This should take about two minutes to complete.\n"
   ]
  },
  {
   "cell_type": "code",
   "execution_count": null,
   "metadata": {
    "scrolled": true
   },
   "outputs": [],
   "source": [
    "x_gray = []\n",
    "x = []\n",
    "count = 0\n",
    "\n",
    "print (\"Image processing start...\")\n",
    "\n",
    "for filepath in glob.iglob(data_folder + '**/*.jpg', recursive=True):\n",
    "    #print (filepath)\n",
    "    try:\n",
    "        img = load_and_process_image(filepath, width, height)\n",
    "    except:\n",
    "        continue\n",
    "    \n",
    "    # Append the full RGB-coloured image into x\n",
    "    #\n",
    "    x.append(img)\n",
    "    \n",
    "    # Convert the image into grayscale\n",
    "    #\n",
    "    imggray = cv2.cvtColor(img, cv2.COLOR_BGR2GRAY)\n",
    "    \n",
    "    # Append the grayscaled images into x_gray\n",
    "    #\n",
    "    x_gray.append(imggray)\n",
    "    \n",
    "    count = count + 1\n",
    "    \n",
    "    if count % 10 == 0:\n",
    "        print (\"%d images...\" % (count))\n",
    "\n",
    "print (\"%d images processed complete.\" % (len(x)))\n",
    "\n",
    "# Save the RGB coloured images into x.npy\n",
    "#\n",
    "x = np.array(x)\n",
    "print (x.shape)\n",
    "np.save(output_folder + \"x.npy\", x)\n",
    "\n",
    "# Save the grayscale images into x_gray.npy\n",
    "#\n",
    "x_gray = np.array(x_gray)\n",
    "print (x_gray.shape)\n",
    "np.save(output_folder + \"x_gray.npy\", x_gray)"
   ]
  },
  {
   "cell_type": "code",
   "execution_count": 7,
   "metadata": {},
   "outputs": [
    {
     "name": "stdout",
     "output_type": "stream",
     "text": [
      "(50062, 28, 28, 3)\n",
      "(50062, 28, 28)\n"
     ]
    }
   ],
   "source": [
    "# Save the RGB coloured images into x.npy\n",
    "#\n",
    "x = np.array(x)\n",
    "print (x.shape)\n",
    "np.save(output_folder + \"x.npy\", x)\n",
    "\n",
    "# Save the grayscale images into x_gray.npy\n",
    "#\n",
    "x_gray = np.array(x_gray)\n",
    "print (x_gray.shape)\n",
    "np.save(output_folder + \"x_gray.npy\", x_gray)"
   ]
  },
  {
   "cell_type": "markdown",
   "metadata": {},
   "source": [
    "## Section 6.1.4 - Upload Data to Google Drive\n",
    "\n",
    "Once you have completed your processing, upload both output files to your Google Drive's Data/P6 folder.\n",
    "\n",
    "Then, proceed to Part 2 of the practical."
   ]
  }
 ],
 "metadata": {
  "kernelspec": {
   "display_name": "Python 3",
   "language": "python",
   "name": "python3"
  },
  "language_info": {
   "codemirror_mode": {
    "name": "ipython",
    "version": 3
   },
   "file_extension": ".py",
   "mimetype": "text/x-python",
   "name": "python",
   "nbconvert_exporter": "python",
   "pygments_lexer": "ipython3",
   "version": "3.7.3"
  },
  "toc": {
   "base_numbering": 1,
   "nav_menu": {},
   "number_sections": true,
   "sideBar": true,
   "skip_h1_title": false,
   "title_cell": "Table of Contents",
   "title_sidebar": "Contents",
   "toc_cell": false,
   "toc_position": {},
   "toc_section_display": true,
   "toc_window_display": false
  },
  "varInspector": {
   "cols": {
    "lenName": 16,
    "lenType": 16,
    "lenVar": 40
   },
   "kernels_config": {
    "python": {
     "delete_cmd_postfix": "",
     "delete_cmd_prefix": "del ",
     "library": "var_list.py",
     "varRefreshCmd": "print(var_dic_list())"
    },
    "r": {
     "delete_cmd_postfix": ") ",
     "delete_cmd_prefix": "rm(",
     "library": "var_list.r",
     "varRefreshCmd": "cat(var_dic_list()) "
    }
   },
   "types_to_exclude": [
    "module",
    "function",
    "builtin_function_or_method",
    "instance",
    "_Feature"
   ],
   "window_display": false
  }
 },
 "nbformat": 4,
 "nbformat_minor": 2
}
